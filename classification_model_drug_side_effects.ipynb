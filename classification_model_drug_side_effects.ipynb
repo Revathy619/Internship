{
 "cells": [
  {
   "cell_type": "markdown",
   "id": "fef5a6c7",
   "metadata": {},
   "source": [
    "# Objective:"
   ]
  },
  {
   "cell_type": "markdown",
   "id": "6a70f0d3",
   "metadata": {},
   "source": [
    "To build a classification model that classifies the side effects of a particular drug by age, gender and race"
   ]
  },
  {
   "cell_type": "code",
   "execution_count": 1,
   "id": "2285d097",
   "metadata": {},
   "outputs": [],
   "source": [
    "#importing the libraries\n",
    "import numpy as np\n",
    "import pandas as pd\n",
    "from sklearn.svm import SVC\n",
    "from sklearn.ensemble import RandomForestClassifier\n",
    "from sklearn.model_selection import train_test_split\n",
    "from sklearn.preprocessing import StandardScaler\n",
    "from sklearn.metrics import classification_report\n",
    "import matplotlib.pyplot as plt\n",
    "import seaborn as sns"
   ]
  },
  {
   "cell_type": "code",
   "execution_count": 2,
   "id": "effc8473",
   "metadata": {},
   "outputs": [
    {
     "data": {
      "text/html": [
       "<div>\n",
       "<style scoped>\n",
       "    .dataframe tbody tr th:only-of-type {\n",
       "        vertical-align: middle;\n",
       "    }\n",
       "\n",
       "    .dataframe tbody tr th {\n",
       "        vertical-align: top;\n",
       "    }\n",
       "\n",
       "    .dataframe thead th {\n",
       "        text-align: right;\n",
       "    }\n",
       "</style>\n",
       "<table border=\"1\" class=\"dataframe\">\n",
       "  <thead>\n",
       "    <tr style=\"text-align: right;\">\n",
       "      <th></th>\n",
       "      <th>name</th>\n",
       "      <th>age</th>\n",
       "      <th>gender</th>\n",
       "      <th>race</th>\n",
       "      <th>urlDrugName</th>\n",
       "      <th>rating</th>\n",
       "      <th>effectiveness</th>\n",
       "      <th>condition</th>\n",
       "      <th>sideEffects</th>\n",
       "    </tr>\n",
       "  </thead>\n",
       "  <tbody>\n",
       "    <tr>\n",
       "      <th>0</th>\n",
       "      <td>Tim Elliot</td>\n",
       "      <td>53.0</td>\n",
       "      <td>M</td>\n",
       "      <td>Asian</td>\n",
       "      <td>enalapril</td>\n",
       "      <td>4</td>\n",
       "      <td>Highly Effective</td>\n",
       "      <td>management of congestive heart failure</td>\n",
       "      <td>Mild Side Effects</td>\n",
       "    </tr>\n",
       "    <tr>\n",
       "      <th>1</th>\n",
       "      <td>Lewis Lee Lembke</td>\n",
       "      <td>47.0</td>\n",
       "      <td>M</td>\n",
       "      <td>White</td>\n",
       "      <td>ortho-tri-cyclen</td>\n",
       "      <td>1</td>\n",
       "      <td>Highly Effective</td>\n",
       "      <td>birth prevention</td>\n",
       "      <td>Severe Side Effects</td>\n",
       "    </tr>\n",
       "    <tr>\n",
       "      <th>2</th>\n",
       "      <td>John Paul Quintero</td>\n",
       "      <td>23.0</td>\n",
       "      <td>M</td>\n",
       "      <td>Hispanic</td>\n",
       "      <td>ponstel</td>\n",
       "      <td>10</td>\n",
       "      <td>Highly Effective</td>\n",
       "      <td>menstrual cramps</td>\n",
       "      <td>No Side Effects</td>\n",
       "    </tr>\n",
       "    <tr>\n",
       "      <th>3</th>\n",
       "      <td>Matthew Hoffman</td>\n",
       "      <td>32.0</td>\n",
       "      <td>M</td>\n",
       "      <td>White</td>\n",
       "      <td>prilosec</td>\n",
       "      <td>3</td>\n",
       "      <td>Marginally Effective</td>\n",
       "      <td>acid reflux</td>\n",
       "      <td>Mild Side Effects</td>\n",
       "    </tr>\n",
       "    <tr>\n",
       "      <th>4</th>\n",
       "      <td>Michael Rodriguez</td>\n",
       "      <td>39.0</td>\n",
       "      <td>M</td>\n",
       "      <td>Hispanic</td>\n",
       "      <td>lyrica</td>\n",
       "      <td>2</td>\n",
       "      <td>Marginally Effective</td>\n",
       "      <td>fibromyalgia</td>\n",
       "      <td>Severe Side Effects</td>\n",
       "    </tr>\n",
       "    <tr>\n",
       "      <th>5</th>\n",
       "      <td>Kenneth Joe Brown</td>\n",
       "      <td>18.0</td>\n",
       "      <td>M</td>\n",
       "      <td>White</td>\n",
       "      <td>propecia</td>\n",
       "      <td>1</td>\n",
       "      <td>Ineffective</td>\n",
       "      <td>hair loss</td>\n",
       "      <td>Severe Side Effects</td>\n",
       "    </tr>\n",
       "    <tr>\n",
       "      <th>6</th>\n",
       "      <td>Kenneth Arnold Buck</td>\n",
       "      <td>22.0</td>\n",
       "      <td>M</td>\n",
       "      <td>Hispanic</td>\n",
       "      <td>vyvanse</td>\n",
       "      <td>9</td>\n",
       "      <td>Highly Effective</td>\n",
       "      <td>add</td>\n",
       "      <td>Mild Side Effects</td>\n",
       "    </tr>\n",
       "    <tr>\n",
       "      <th>7</th>\n",
       "      <td>Brock Nichols</td>\n",
       "      <td>35.0</td>\n",
       "      <td>M</td>\n",
       "      <td>White</td>\n",
       "      <td>elavil</td>\n",
       "      <td>10</td>\n",
       "      <td>Considerably Effective</td>\n",
       "      <td>depression</td>\n",
       "      <td>No Side Effects</td>\n",
       "    </tr>\n",
       "    <tr>\n",
       "      <th>8</th>\n",
       "      <td>Autumn Steele</td>\n",
       "      <td>34.0</td>\n",
       "      <td>F</td>\n",
       "      <td>White</td>\n",
       "      <td>xanax</td>\n",
       "      <td>10</td>\n",
       "      <td>Highly Effective</td>\n",
       "      <td>panic disorder</td>\n",
       "      <td>No Side Effects</td>\n",
       "    </tr>\n",
       "    <tr>\n",
       "      <th>9</th>\n",
       "      <td>Leslie Sapp III</td>\n",
       "      <td>47.0</td>\n",
       "      <td>M</td>\n",
       "      <td>Black</td>\n",
       "      <td>claritin</td>\n",
       "      <td>1</td>\n",
       "      <td>Ineffective</td>\n",
       "      <td>allergies</td>\n",
       "      <td>Extremely Severe Side Effects</td>\n",
       "    </tr>\n",
       "  </tbody>\n",
       "</table>\n",
       "</div>"
      ],
      "text/plain": [
       "                  name   age gender      race       urlDrugName  rating  \\\n",
       "0           Tim Elliot  53.0      M     Asian         enalapril       4   \n",
       "1     Lewis Lee Lembke  47.0      M     White  ortho-tri-cyclen       1   \n",
       "2   John Paul Quintero  23.0      M  Hispanic           ponstel      10   \n",
       "3      Matthew Hoffman  32.0      M     White          prilosec       3   \n",
       "4    Michael Rodriguez  39.0      M  Hispanic            lyrica       2   \n",
       "5    Kenneth Joe Brown  18.0      M     White          propecia       1   \n",
       "6  Kenneth Arnold Buck  22.0      M  Hispanic           vyvanse       9   \n",
       "7        Brock Nichols  35.0      M     White            elavil      10   \n",
       "8        Autumn Steele  34.0      F     White             xanax      10   \n",
       "9      Leslie Sapp III  47.0      M     Black          claritin       1   \n",
       "\n",
       "            effectiveness                               condition  \\\n",
       "0        Highly Effective  management of congestive heart failure   \n",
       "1        Highly Effective                        birth prevention   \n",
       "2        Highly Effective                        menstrual cramps   \n",
       "3    Marginally Effective                             acid reflux   \n",
       "4    Marginally Effective                            fibromyalgia   \n",
       "5             Ineffective                               hair loss   \n",
       "6        Highly Effective                                     add   \n",
       "7  Considerably Effective                              depression   \n",
       "8        Highly Effective                          panic disorder   \n",
       "9             Ineffective                               allergies   \n",
       "\n",
       "                     sideEffects  \n",
       "0              Mild Side Effects  \n",
       "1            Severe Side Effects  \n",
       "2                No Side Effects  \n",
       "3              Mild Side Effects  \n",
       "4            Severe Side Effects  \n",
       "5            Severe Side Effects  \n",
       "6              Mild Side Effects  \n",
       "7                No Side Effects  \n",
       "8                No Side Effects  \n",
       "9  Extremely Severe Side Effects  "
      ]
     },
     "execution_count": 2,
     "metadata": {},
     "output_type": "execute_result"
    }
   ],
   "source": [
    "#Loading the dataset\n",
    "data = pd.read_csv(\"F:\\\\pythonprogramming\\\\dataset.csv\").drop(columns=['Unnamed: 0'])\n",
    "data.head(10) "
   ]
  },
  {
   "cell_type": "code",
   "execution_count": 3,
   "id": "379b6e24",
   "metadata": {},
   "outputs": [
    {
     "data": {
      "text/plain": [
       "name               0\n",
       "age                0\n",
       "gender             0\n",
       "race               0\n",
       "urlDrugName        0\n",
       "rating             0\n",
       "effectiveness      0\n",
       "condition        141\n",
       "sideEffects        0\n",
       "dtype: int64"
      ]
     },
     "execution_count": 3,
     "metadata": {},
     "output_type": "execute_result"
    }
   ],
   "source": [
    "# To verify if any null values present\n",
    "data.isnull().sum()"
   ]
  },
  {
   "cell_type": "code",
   "execution_count": 4,
   "id": "fe0cc2d2",
   "metadata": {},
   "outputs": [
    {
     "data": {
      "text/plain": [
       "(440550, 9)"
      ]
     },
     "execution_count": 4,
     "metadata": {},
     "output_type": "execute_result"
    }
   ],
   "source": [
    "#how many rows and columns\n",
    "data.shape"
   ]
  },
  {
   "cell_type": "code",
   "execution_count": 5,
   "id": "77aad50f",
   "metadata": {},
   "outputs": [
    {
     "name": "stdout",
     "output_type": "stream",
     "text": [
      "Variable                 Type         Data/Info\n",
      "-----------------------------------------------\n",
      "RandomForestClassifier   ABCMeta      <class 'sklearn.ensemble.<...>.RandomForestClassifier'>\n",
      "SVC                      ABCMeta      <class 'sklearn.svm._classes.SVC'>\n",
      "StandardScaler           type         <class 'sklearn.preproces<...>ng._data.StandardScaler'>\n",
      "classification_report    function     <function classification_<...>rt at 0x00000289ED318AF0>\n",
      "data                     DataFrame                          nam<...>[440550 rows x 9 columns]\n",
      "np                       module       <module 'numpy' from 'C:\\<...>ges\\\\numpy\\\\__init__.py'>\n",
      "pd                       module       <module 'pandas' from 'C:<...>es\\\\pandas\\\\__init__.py'>\n",
      "plt                      module       <module 'matplotlib.pyplo<...>\\\\matplotlib\\\\pyplot.py'>\n",
      "sns                      module       <module 'seaborn' from 'C<...>s\\\\seaborn\\\\__init__.py'>\n",
      "train_test_split         function     <function train_test_split at 0x00000289ED2C80D0>\n"
     ]
    }
   ],
   "source": [
    "#what all variables and modules we have created or loaded into our computer memory\n",
    "%whos"
   ]
  },
  {
   "cell_type": "code",
   "execution_count": 6,
   "id": "8fd5f72a",
   "metadata": {},
   "outputs": [
    {
     "data": {
      "text/plain": [
       "name              object\n",
       "age              float64\n",
       "gender            object\n",
       "race              object\n",
       "urlDrugName       object\n",
       "rating             int64\n",
       "effectiveness     object\n",
       "condition         object\n",
       "sideEffects       object\n",
       "dtype: object"
      ]
     },
     "execution_count": 6,
     "metadata": {},
     "output_type": "execute_result"
    }
   ],
   "source": [
    "# the datatypes\n",
    "data.dtypes"
   ]
  },
  {
   "cell_type": "code",
   "execution_count": 7,
   "id": "ea913c1c",
   "metadata": {},
   "outputs": [
    {
     "name": "stdout",
     "output_type": "stream",
     "text": [
      "<class 'pandas.core.frame.DataFrame'>\n",
      "RangeIndex: 440550 entries, 0 to 440549\n",
      "Data columns (total 9 columns):\n",
      " #   Column         Non-Null Count   Dtype  \n",
      "---  ------         --------------   -----  \n",
      " 0   name           440550 non-null  object \n",
      " 1   age            440550 non-null  float64\n",
      " 2   gender         440550 non-null  object \n",
      " 3   race           440550 non-null  object \n",
      " 4   urlDrugName    440550 non-null  object \n",
      " 5   rating         440550 non-null  int64  \n",
      " 6   effectiveness  440550 non-null  object \n",
      " 7   condition      440409 non-null  object \n",
      " 8   sideEffects    440550 non-null  object \n",
      "dtypes: float64(1), int64(1), object(7)\n",
      "memory usage: 30.3+ MB\n"
     ]
    }
   ],
   "source": [
    "data.info()"
   ]
  },
  {
   "cell_type": "code",
   "execution_count": 8,
   "id": "581f7059",
   "metadata": {},
   "outputs": [
    {
     "data": {
      "text/plain": [
       "Index(['name', 'age', 'gender', 'race', 'urlDrugName', 'rating',\n",
       "       'effectiveness', 'condition', 'sideEffects'],\n",
       "      dtype='object')"
      ]
     },
     "execution_count": 8,
     "metadata": {},
     "output_type": "execute_result"
    }
   ],
   "source": [
    "data.columns"
   ]
  },
  {
   "cell_type": "markdown",
   "id": "fd9b3fb8",
   "metadata": {},
   "source": [
    "# Exploratory Data Analysis"
   ]
  },
  {
   "cell_type": "code",
   "execution_count": 9,
   "id": "88e280db",
   "metadata": {},
   "outputs": [
    {
     "data": {
      "text/html": [
       "<div>\n",
       "<style scoped>\n",
       "    .dataframe tbody tr th:only-of-type {\n",
       "        vertical-align: middle;\n",
       "    }\n",
       "\n",
       "    .dataframe tbody tr th {\n",
       "        vertical-align: top;\n",
       "    }\n",
       "\n",
       "    .dataframe thead th {\n",
       "        text-align: right;\n",
       "    }\n",
       "</style>\n",
       "<table border=\"1\" class=\"dataframe\">\n",
       "  <thead>\n",
       "    <tr style=\"text-align: right;\">\n",
       "      <th></th>\n",
       "      <th>age</th>\n",
       "      <th>rating</th>\n",
       "    </tr>\n",
       "  </thead>\n",
       "  <tbody>\n",
       "    <tr>\n",
       "      <th>count</th>\n",
       "      <td>440550.000000</td>\n",
       "      <td>440550.000000</td>\n",
       "    </tr>\n",
       "    <tr>\n",
       "      <th>mean</th>\n",
       "      <td>36.549750</td>\n",
       "      <td>7.006254</td>\n",
       "    </tr>\n",
       "    <tr>\n",
       "      <th>std</th>\n",
       "      <td>12.693066</td>\n",
       "      <td>2.937025</td>\n",
       "    </tr>\n",
       "    <tr>\n",
       "      <th>min</th>\n",
       "      <td>6.000000</td>\n",
       "      <td>1.000000</td>\n",
       "    </tr>\n",
       "    <tr>\n",
       "      <th>25%</th>\n",
       "      <td>27.000000</td>\n",
       "      <td>5.000000</td>\n",
       "    </tr>\n",
       "    <tr>\n",
       "      <th>50%</th>\n",
       "      <td>35.000000</td>\n",
       "      <td>8.000000</td>\n",
       "    </tr>\n",
       "    <tr>\n",
       "      <th>75%</th>\n",
       "      <td>45.000000</td>\n",
       "      <td>9.000000</td>\n",
       "    </tr>\n",
       "    <tr>\n",
       "      <th>max</th>\n",
       "      <td>91.000000</td>\n",
       "      <td>10.000000</td>\n",
       "    </tr>\n",
       "  </tbody>\n",
       "</table>\n",
       "</div>"
      ],
      "text/plain": [
       "                 age         rating\n",
       "count  440550.000000  440550.000000\n",
       "mean       36.549750       7.006254\n",
       "std        12.693066       2.937025\n",
       "min         6.000000       1.000000\n",
       "25%        27.000000       5.000000\n",
       "50%        35.000000       8.000000\n",
       "75%        45.000000       9.000000\n",
       "max        91.000000      10.000000"
      ]
     },
     "execution_count": 9,
     "metadata": {},
     "output_type": "execute_result"
    }
   ],
   "source": [
    "#Data Summary of numeric data\n",
    "data.describe()"
   ]
  },
  {
   "cell_type": "code",
   "execution_count": 10,
   "id": "46312ea6",
   "metadata": {},
   "outputs": [
    {
     "data": {
      "text/html": [
       "<div>\n",
       "<style scoped>\n",
       "    .dataframe tbody tr th:only-of-type {\n",
       "        vertical-align: middle;\n",
       "    }\n",
       "\n",
       "    .dataframe tbody tr th {\n",
       "        vertical-align: top;\n",
       "    }\n",
       "\n",
       "    .dataframe thead th {\n",
       "        text-align: right;\n",
       "    }\n",
       "</style>\n",
       "<table border=\"1\" class=\"dataframe\">\n",
       "  <thead>\n",
       "    <tr style=\"text-align: right;\">\n",
       "      <th></th>\n",
       "      <th>name</th>\n",
       "      <th>gender</th>\n",
       "      <th>race</th>\n",
       "      <th>urlDrugName</th>\n",
       "      <th>effectiveness</th>\n",
       "      <th>condition</th>\n",
       "      <th>sideEffects</th>\n",
       "    </tr>\n",
       "  </thead>\n",
       "  <tbody>\n",
       "    <tr>\n",
       "      <th>count</th>\n",
       "      <td>440550</td>\n",
       "      <td>440550</td>\n",
       "      <td>440550</td>\n",
       "      <td>440550</td>\n",
       "      <td>440550</td>\n",
       "      <td>440409</td>\n",
       "      <td>440550</td>\n",
       "    </tr>\n",
       "    <tr>\n",
       "      <th>unique</th>\n",
       "      <td>4851</td>\n",
       "      <td>2</td>\n",
       "      <td>6</td>\n",
       "      <td>502</td>\n",
       "      <td>5</td>\n",
       "      <td>1426</td>\n",
       "      <td>5</td>\n",
       "    </tr>\n",
       "    <tr>\n",
       "      <th>top</th>\n",
       "      <td>TK TK</td>\n",
       "      <td>M</td>\n",
       "      <td>White</td>\n",
       "      <td>lexapro</td>\n",
       "      <td>Highly Effective</td>\n",
       "      <td>depression</td>\n",
       "      <td>Mild Side Effects</td>\n",
       "    </tr>\n",
       "    <tr>\n",
       "      <th>freq</th>\n",
       "      <td>2610</td>\n",
       "      <td>420570</td>\n",
       "      <td>222840</td>\n",
       "      <td>8936</td>\n",
       "      <td>188584</td>\n",
       "      <td>33469</td>\n",
       "      <td>144494</td>\n",
       "    </tr>\n",
       "  </tbody>\n",
       "</table>\n",
       "</div>"
      ],
      "text/plain": [
       "          name  gender    race urlDrugName     effectiveness   condition  \\\n",
       "count   440550  440550  440550      440550            440550      440409   \n",
       "unique    4851       2       6         502                 5        1426   \n",
       "top      TK TK       M   White     lexapro  Highly Effective  depression   \n",
       "freq      2610  420570  222840        8936            188584       33469   \n",
       "\n",
       "              sideEffects  \n",
       "count              440550  \n",
       "unique                  5  \n",
       "top     Mild Side Effects  \n",
       "freq               144494  "
      ]
     },
     "execution_count": 10,
     "metadata": {},
     "output_type": "execute_result"
    }
   ],
   "source": [
    "#Data Summary of non-numeric data\n",
    "data.describe(include=['object', 'bool'])"
   ]
  },
  {
   "cell_type": "markdown",
   "id": "3face9ad",
   "metadata": {},
   "source": [
    "# Univariate Analysis"
   ]
  },
  {
   "cell_type": "markdown",
   "id": "b3ad259e",
   "metadata": {},
   "source": [
    "1.List of drugs available"
   ]
  },
  {
   "cell_type": "code",
   "execution_count": 11,
   "id": "25da3796",
   "metadata": {},
   "outputs": [
    {
     "data": {
      "text/plain": [
       "<function matplotlib.pyplot.show(close=None, block=None)>"
      ]
     },
     "execution_count": 11,
     "metadata": {},
     "output_type": "execute_result"
    },
    {
     "data": {
      "image/png": "[encoded data removed]",
      "text/plain": [
       "<Figure size 432x288 with 1 Axes>"
      ]
     },
     "metadata": {
      "needs_background": "light"
     },
     "output_type": "display_data"
    }
   ],
   "source": [
    "data['urlDrugName'].value_counts().head(15).plot(kind='bar')\n",
    "plt.rcParams['figure.figsize']=(10,7)\n",
    "plt.show"
   ]
  },
  {
   "cell_type": "markdown",
   "id": "49218136",
   "metadata": {},
   "source": [
    "2.The ratings of the drugs"
   ]
  },
  {
   "cell_type": "code",
   "execution_count": 12,
   "id": "65f8d8a4",
   "metadata": {},
   "outputs": [
    {
     "data": {
      "text/plain": [
       "<function matplotlib.pyplot.show(close=None, block=None)>"
      ]
     },
     "execution_count": 12,
     "metadata": {},
     "output_type": "execute_result"
    },
    {
     "data": {
      "image/png": "[encoded data removed]",
      "text/plain": [
       "<Figure size 720x504 with 1 Axes>"
      ]
     },
     "metadata": {
      "needs_background": "light"
     },
     "output_type": "display_data"
    }
   ],
   "source": [
    "data['rating'].value_counts().plot(kind='bar')\n",
    "plt.xlabel('Ratings')\n",
    "plt.show"
   ]
  },
  {
   "cell_type": "markdown",
   "id": "730c50a1",
   "metadata": {},
   "source": [
    "3.Check the effectiveness of the drugs "
   ]
  },
  {
   "cell_type": "code",
   "execution_count": 13,
   "id": "705266a7",
   "metadata": {},
   "outputs": [
    {
     "data": {
      "text/plain": [
       "<function matplotlib.pyplot.show(close=None, block=None)>"
      ]
     },
     "execution_count": 13,
     "metadata": {},
     "output_type": "execute_result"
    },
    {
     "data": {
      "image/png": "[encoded data removed]",
      "text/plain": [
       "<Figure size 720x504 with 1 Axes>"
      ]
     },
     "metadata": {},
     "output_type": "display_data"
    }
   ],
   "source": [
    "data['effectiveness'].value_counts().plot(kind='pie')\n",
    "plt.show"
   ]
  },
  {
   "cell_type": "markdown",
   "id": "69800ed1",
   "metadata": {},
   "source": [
    "4. Check the various conditions the medicine cures(top 10) since they are over thousand\n"
   ]
  },
  {
   "cell_type": "code",
   "execution_count": 14,
   "id": "9de9c8ed",
   "metadata": {},
   "outputs": [
    {
     "data": {
      "image/png": "[encoded data removed]",
      "text/plain": [
       "<Figure size 720x504 with 1 Axes>"
      ]
     },
     "metadata": {
      "needs_background": "light"
     },
     "output_type": "display_data"
    }
   ],
   "source": [
    "data['condition'].value_counts().head(10).plot(kind='bar')\n",
    "plt.xlabel('condition')\n",
    "plt.show()"
   ]
  },
  {
   "cell_type": "markdown",
   "id": "7f759b5f",
   "metadata": {},
   "source": [
    "Most of the drugs cures depression. Then comes acne. The third drug is for anxiety"
   ]
  },
  {
   "cell_type": "markdown",
   "id": "0df7233d",
   "metadata": {},
   "source": [
    "5. Checking the target variable(sideEffects)"
   ]
  },
  {
   "cell_type": "code",
   "execution_count": 15,
   "id": "4e56e330",
   "metadata": {},
   "outputs": [
    {
     "data": {
      "image/png": "[encoded data removed]",
      "text/plain": [
       "<Figure size 720x504 with 1 Axes>"
      ]
     },
     "metadata": {},
     "output_type": "display_data"
    }
   ],
   "source": [
    "data['sideEffects'].value_counts().plot(kind='pie')\n",
    "plt.ylabel(\"\")\n",
    "plt.show()"
   ]
  },
  {
   "cell_type": "markdown",
   "id": "f99318fd",
   "metadata": {},
   "source": [
    "# Bi-variate Analysis"
   ]
  },
  {
   "cell_type": "markdown",
   "id": "8d25f14d",
   "metadata": {},
   "source": [
    "1. Plot corelation between effectiveness and rating"
   ]
  },
  {
   "cell_type": "code",
   "execution_count": 16,
   "id": "af31b538",
   "metadata": {},
   "outputs": [
    {
     "data": {
      "text/html": [
       "<div>\n",
       "<style scoped>\n",
       "    .dataframe tbody tr th:only-of-type {\n",
       "        vertical-align: middle;\n",
       "    }\n",
       "\n",
       "    .dataframe tbody tr th {\n",
       "        vertical-align: top;\n",
       "    }\n",
       "\n",
       "    .dataframe thead th {\n",
       "        text-align: right;\n",
       "    }\n",
       "</style>\n",
       "<table border=\"1\" class=\"dataframe\">\n",
       "  <thead>\n",
       "    <tr style=\"text-align: right;\">\n",
       "      <th></th>\n",
       "      <th>effectiveness</th>\n",
       "    </tr>\n",
       "  </thead>\n",
       "  <tbody>\n",
       "    <tr>\n",
       "      <th>Highly Effective</th>\n",
       "      <td>188584</td>\n",
       "    </tr>\n",
       "  </tbody>\n",
       "</table>\n",
       "</div>"
      ],
      "text/plain": [
       "                  effectiveness\n",
       "Highly Effective         188584"
      ]
     },
     "execution_count": 16,
     "metadata": {},
     "output_type": "execute_result"
    }
   ],
   "source": [
    "corr_comp = data.loc[data[\"effectiveness\"] == \"Highly Effective\"][\"effectiveness\"].value_counts().to_frame(\"effectiveness\")\n",
    "corr_comp"
   ]
  },
  {
   "cell_type": "code",
   "execution_count": 17,
   "id": "a23c7d1a",
   "metadata": {},
   "outputs": [
    {
     "data": {
      "image/png": "[encoded data removed]",
      "text/plain": [
       "<Figure size 864x432 with 1 Axes>"
      ]
     },
     "metadata": {
      "needs_background": "light"
     },
     "output_type": "display_data"
    }
   ],
   "source": [
    "corr_comp.plot.bar(figsize = (12,6) , title = \"Ratings vs. Effectiveness\",color='pink')\n",
    "plt.xlabel(\"effectiveness\")\n",
    "plt.ylabel(\"rating\")\n",
    "plt.show()"
   ]
  },
  {
   "cell_type": "code",
   "execution_count": 18,
   "id": "e8486898",
   "metadata": {},
   "outputs": [
    {
     "data": {
      "text/plain": [
       "<AxesSubplot:>"
      ]
     },
     "execution_count": 18,
     "metadata": {},
     "output_type": "execute_result"
    },
    {
     "data": {
      "image/png": "[encoded data removed]",
      "text/plain": [
       "<Figure size 720x504 with 2 Axes>"
      ]
     },
     "metadata": {
      "needs_background": "light"
     },
     "output_type": "display_data"
    }
   ],
   "source": [
    "corr=data.corr()\n",
    "sns.heatmap(corr,vmin=-.2,vmax=1,annot=True,linewidth=0.2,cmap='YlGnBu')"
   ]
  },
  {
   "cell_type": "markdown",
   "id": "dae8abaf",
   "metadata": {},
   "source": [
    "# Data Preprocessing"
   ]
  },
  {
   "cell_type": "code",
   "execution_count": 19,
   "id": "e0a472d0",
   "metadata": {},
   "outputs": [
    {
     "data": {
      "image/png": "[encoded data removed]",
      "text/plain": [
       "<Figure size 1440x1080 with 1 Axes>"
      ]
     },
     "metadata": {
      "needs_background": "light"
     },
     "output_type": "display_data"
    }
   ],
   "source": [
    "#Filling missing values\n",
    "freqgraph = data.select_dtypes(include = ['float'])\n",
    "freqgraph.hist(figsize= (20,15))\n",
    "plt.show()"
   ]
  },
  {
   "cell_type": "code",
   "execution_count": 20,
   "id": "a5628828",
   "metadata": {},
   "outputs": [
    {
     "data": {
      "text/plain": [
       "Index(['name', 'age', 'gender', 'race', 'urlDrugName', 'rating',\n",
       "       'effectiveness', 'condition', 'sideEffects'],\n",
       "      dtype='object')"
      ]
     },
     "execution_count": 20,
     "metadata": {},
     "output_type": "execute_result"
    }
   ],
   "source": [
    "data.columns"
   ]
  },
  {
   "cell_type": "code",
   "execution_count": 21,
   "id": "1e847b1a",
   "metadata": {},
   "outputs": [],
   "source": [
    "#data['condition'] = data['condition'].fillna(data['condition'].mode())"
   ]
  },
  {
   "cell_type": "code",
   "execution_count": 22,
   "id": "97254ea4",
   "metadata": {},
   "outputs": [
    {
     "data": {
      "text/plain": [
       "(0    lexapro\n",
       " dtype: object,\n",
       " 0    depression\n",
       " dtype: object)"
      ]
     },
     "execution_count": 22,
     "metadata": {},
     "output_type": "execute_result"
    }
   ],
   "source": [
    "# Checking the most frequent value to fill NaN\n",
    "data['urlDrugName'].mode(),data['condition'].mode()"
   ]
  },
  {
   "cell_type": "code",
   "execution_count": 23,
   "id": "484c586c",
   "metadata": {},
   "outputs": [],
   "source": [
    "# Filling NaN values\n",
    "data['urlDrugName'] = data['urlDrugName'].fillna(\"lexapro\")\n",
    "data['condition'] = data['condition'].fillna(\"depression\")"
   ]
  },
  {
   "cell_type": "code",
   "execution_count": 24,
   "id": "7afa02d1",
   "metadata": {},
   "outputs": [
    {
     "data": {
      "text/plain": [
       "name             0\n",
       "age              0\n",
       "gender           0\n",
       "race             0\n",
       "urlDrugName      0\n",
       "rating           0\n",
       "effectiveness    0\n",
       "condition        0\n",
       "sideEffects      0\n",
       "dtype: int64"
      ]
     },
     "execution_count": 24,
     "metadata": {},
     "output_type": "execute_result"
    }
   ],
   "source": [
    "# To verify if any null values present\n",
    "data.isnull().sum()"
   ]
  },
  {
   "cell_type": "markdown",
   "id": "c2d6a61c",
   "metadata": {},
   "source": [
    "# Check and handle the outliers"
   ]
  },
  {
   "cell_type": "code",
   "execution_count": 25,
   "id": "ff7f5d03",
   "metadata": {},
   "outputs": [
    {
     "name": "stderr",
     "output_type": "stream",
     "text": [
      "C:\\Users\\Revathi\\anaconda3\\lib\\site-packages\\seaborn\\_decorators.py:36: FutureWarning: Pass the following variable as a keyword arg: x. From version 0.12, the only valid positional argument will be `data`, and passing other arguments without an explicit keyword will result in an error or misinterpretation.\n",
      "  warnings.warn(\n",
      "C:\\Users\\Revathi\\anaconda3\\lib\\site-packages\\seaborn\\_decorators.py:36: FutureWarning: Pass the following variable as a keyword arg: x. From version 0.12, the only valid positional argument will be `data`, and passing other arguments without an explicit keyword will result in an error or misinterpretation.\n",
      "  warnings.warn(\n"
     ]
    },
    {
     "data": {
      "text/plain": [
       "<AxesSubplot:>"
      ]
     },
     "execution_count": 25,
     "metadata": {},
     "output_type": "execute_result"
    },
    {
     "data": {
      "image/png": "[encoded data removed]",
      "text/plain": [
       "<Figure size 1440x864 with 6 Axes>"
      ]
     },
     "metadata": {
      "needs_background": "light"
     },
     "output_type": "display_data"
    }
   ],
   "source": [
    "fig, ax = plt.subplots(3,2,figsize=(20, 12))\n",
    "sns.boxplot(data['age'],data=data,ax=ax[1,0])\n",
    "data['age'].hist(ax=ax[1,1])\n",
    "sns.boxplot(data['rating'],data=data,ax=ax[0,0])\n",
    "data['rating'].hist(ax=ax[2,1])"
   ]
  },
  {
   "cell_type": "code",
   "execution_count": 26,
   "id": "86f451c9",
   "metadata": {},
   "outputs": [
    {
     "name": "stdout",
     "output_type": "stream",
     "text": [
      "skewness value of age:  0.7147347481188853\n",
      "skewness value of rating:  -0.8699600305337749\n"
     ]
    }
   ],
   "source": [
    "print('skewness value of age: ',data['age'].skew())\n",
    "print('skewness value of rating: ',data['rating'].skew())"
   ]
  },
  {
   "cell_type": "markdown",
   "id": "dad58195",
   "metadata": {},
   "source": [
    "The skewness value should be within the range of -1 to 1 for a normal distribution, any major changes from this value may indicate the presence of outliers."
   ]
  },
  {
   "cell_type": "code",
   "execution_count": 27,
   "id": "c2398418",
   "metadata": {},
   "outputs": [],
   "source": [
    "#droping the outliers by removing all the values that are below the 25th percentile and above the 75th percentile of the ‘age’\n",
    "#variable.\n",
    "Q11 = data['age'].quantile(0.25)\n",
    "Q13 = data['age'].quantile(0.75)\n",
    "IQR1 = Q13 - Q11\n",
    "whisker_width1 = 1.5\n",
    "lower_whisker1 = Q11 -(whisker_width1*IQR1)\n",
    "upper_whisker1 = Q13 + (whisker_width1*IQR1)\n",
    "data['age']=np.where(data['age']>upper_whisker1,upper_whisker1,np.where(data['age']<lower_whisker1,lower_whisker1,data['age']))\n",
    "\n",
    "#droping the outliers by removing all the values that are below the 25th percentile and above the 75th percentile of the ‘rating’\n",
    "#variable.\n",
    "Q11 = data['rating'].quantile(0.25)\n",
    "Q13 = data['rating'].quantile(0.75)\n",
    "IQR1 = Q13 - Q11\n",
    "whisker_width1 = 1.5\n",
    "lower_whisker1 = Q11 -(whisker_width1*IQR1)\n",
    "upper_whisker1 = Q13 + (whisker_width1*IQR1)\n",
    "data['rating']=np.where(data['rating']>upper_whisker1,upper_whisker1,np.where(data['rating']<lower_whisker1,lower_whisker1,data['rating']))\n"
   ]
  },
  {
   "cell_type": "code",
   "execution_count": 28,
   "id": "99b53934",
   "metadata": {},
   "outputs": [
    {
     "name": "stderr",
     "output_type": "stream",
     "text": [
      "C:\\Users\\Revathi\\anaconda3\\lib\\site-packages\\seaborn\\_decorators.py:36: FutureWarning: Pass the following variable as a keyword arg: x. From version 0.12, the only valid positional argument will be `data`, and passing other arguments without an explicit keyword will result in an error or misinterpretation.\n",
      "  warnings.warn(\n",
      "C:\\Users\\Revathi\\anaconda3\\lib\\site-packages\\seaborn\\_decorators.py:36: FutureWarning: Pass the following variable as a keyword arg: x. From version 0.12, the only valid positional argument will be `data`, and passing other arguments without an explicit keyword will result in an error or misinterpretation.\n",
      "  warnings.warn(\n"
     ]
    },
    {
     "data": {
      "text/plain": [
       "<AxesSubplot:>"
      ]
     },
     "execution_count": 28,
     "metadata": {},
     "output_type": "execute_result"
    },
    {
     "data": {
      "image/png": "[encoded data removed]",
      "text/plain": [
       "<Figure size 1440x864 with 6 Axes>"
      ]
     },
     "metadata": {
      "needs_background": "light"
     },
     "output_type": "display_data"
    }
   ],
   "source": [
    "fig, ax = plt.subplots(3,2,figsize=(20, 12))\n",
    "sns.boxplot(data['age'],data=data,ax=ax[1,0])\n",
    "data['age'].hist(ax=ax[1,1])\n",
    "sns.boxplot(data['rating'],data=data,ax=ax[0,0])\n",
    "data['rating'].hist(ax=ax[0,1])"
   ]
  },
  {
   "cell_type": "code",
   "execution_count": 29,
   "id": "72f80656",
   "metadata": {},
   "outputs": [
    {
     "name": "stdout",
     "output_type": "stream",
     "text": [
      "skewness value of age:  0.6413274481093832\n",
      "skewness value of rating:  -0.8699600305337749\n"
     ]
    }
   ],
   "source": [
    "print('skewness value of age: ',data['age'].skew())\n",
    "print('skewness value of rating: ',data['rating'].skew())"
   ]
  },
  {
   "cell_type": "markdown",
   "id": "4368ed98",
   "metadata": {},
   "source": [
    "Here all the outliers are handled."
   ]
  },
  {
   "cell_type": "code",
   "execution_count": 30,
   "id": "bcbd4c5f",
   "metadata": {},
   "outputs": [
    {
     "data": {
      "text/plain": [
       "Index(['name', 'age', 'gender', 'race', 'urlDrugName', 'rating',\n",
       "       'effectiveness', 'condition', 'sideEffects'],\n",
       "      dtype='object')"
      ]
     },
     "execution_count": 30,
     "metadata": {},
     "output_type": "execute_result"
    }
   ],
   "source": [
    "data.columns"
   ]
  },
  {
   "cell_type": "markdown",
   "id": "df4fafd0",
   "metadata": {},
   "source": [
    "# Put target into a separate column"
   ]
  },
  {
   "cell_type": "code",
   "execution_count": 31,
   "id": "b2556c7c",
   "metadata": {},
   "outputs": [
    {
     "data": {
      "text/html": [
       "<div>\n",
       "<style scoped>\n",
       "    .dataframe tbody tr th:only-of-type {\n",
       "        vertical-align: middle;\n",
       "    }\n",
       "\n",
       "    .dataframe tbody tr th {\n",
       "        vertical-align: top;\n",
       "    }\n",
       "\n",
       "    .dataframe thead th {\n",
       "        text-align: right;\n",
       "    }\n",
       "</style>\n",
       "<table border=\"1\" class=\"dataframe\">\n",
       "  <thead>\n",
       "    <tr style=\"text-align: right;\">\n",
       "      <th></th>\n",
       "      <th>name</th>\n",
       "      <th>age</th>\n",
       "      <th>gender</th>\n",
       "      <th>race</th>\n",
       "      <th>urlDrugName</th>\n",
       "      <th>rating</th>\n",
       "      <th>effectiveness</th>\n",
       "      <th>condition</th>\n",
       "    </tr>\n",
       "  </thead>\n",
       "  <tbody>\n",
       "    <tr>\n",
       "      <th>0</th>\n",
       "      <td>Tim Elliot</td>\n",
       "      <td>53.0</td>\n",
       "      <td>M</td>\n",
       "      <td>Asian</td>\n",
       "      <td>enalapril</td>\n",
       "      <td>4.0</td>\n",
       "      <td>Highly Effective</td>\n",
       "      <td>management of congestive heart failure</td>\n",
       "    </tr>\n",
       "    <tr>\n",
       "      <th>1</th>\n",
       "      <td>Lewis Lee Lembke</td>\n",
       "      <td>47.0</td>\n",
       "      <td>M</td>\n",
       "      <td>White</td>\n",
       "      <td>ortho-tri-cyclen</td>\n",
       "      <td>1.0</td>\n",
       "      <td>Highly Effective</td>\n",
       "      <td>birth prevention</td>\n",
       "    </tr>\n",
       "    <tr>\n",
       "      <th>2</th>\n",
       "      <td>John Paul Quintero</td>\n",
       "      <td>23.0</td>\n",
       "      <td>M</td>\n",
       "      <td>Hispanic</td>\n",
       "      <td>ponstel</td>\n",
       "      <td>10.0</td>\n",
       "      <td>Highly Effective</td>\n",
       "      <td>menstrual cramps</td>\n",
       "    </tr>\n",
       "    <tr>\n",
       "      <th>3</th>\n",
       "      <td>Matthew Hoffman</td>\n",
       "      <td>32.0</td>\n",
       "      <td>M</td>\n",
       "      <td>White</td>\n",
       "      <td>prilosec</td>\n",
       "      <td>3.0</td>\n",
       "      <td>Marginally Effective</td>\n",
       "      <td>acid reflux</td>\n",
       "    </tr>\n",
       "    <tr>\n",
       "      <th>4</th>\n",
       "      <td>Michael Rodriguez</td>\n",
       "      <td>39.0</td>\n",
       "      <td>M</td>\n",
       "      <td>Hispanic</td>\n",
       "      <td>lyrica</td>\n",
       "      <td>2.0</td>\n",
       "      <td>Marginally Effective</td>\n",
       "      <td>fibromyalgia</td>\n",
       "    </tr>\n",
       "  </tbody>\n",
       "</table>\n",
       "</div>"
      ],
      "text/plain": [
       "                 name   age gender      race       urlDrugName  rating  \\\n",
       "0          Tim Elliot  53.0      M     Asian         enalapril     4.0   \n",
       "1    Lewis Lee Lembke  47.0      M     White  ortho-tri-cyclen     1.0   \n",
       "2  John Paul Quintero  23.0      M  Hispanic           ponstel    10.0   \n",
       "3     Matthew Hoffman  32.0      M     White          prilosec     3.0   \n",
       "4   Michael Rodriguez  39.0      M  Hispanic            lyrica     2.0   \n",
       "\n",
       "          effectiveness                               condition  \n",
       "0      Highly Effective  management of congestive heart failure  \n",
       "1      Highly Effective                        birth prevention  \n",
       "2      Highly Effective                        menstrual cramps  \n",
       "3  Marginally Effective                             acid reflux  \n",
       "4  Marginally Effective                            fibromyalgia  "
      ]
     },
     "execution_count": 31,
     "metadata": {},
     "output_type": "execute_result"
    }
   ],
   "source": [
    "target = data.pop(\"sideEffects\")\n",
    "data.head()"
   ]
  },
  {
   "cell_type": "markdown",
   "id": "3fe27929",
   "metadata": {},
   "source": [
    "# Convert categorical data to numeric data"
   ]
  },
  {
   "cell_type": "code",
   "execution_count": 32,
   "id": "78c1863c",
   "metadata": {},
   "outputs": [
    {
     "data": {
      "text/html": [
       "<div>\n",
       "<style scoped>\n",
       "    .dataframe tbody tr th:only-of-type {\n",
       "        vertical-align: middle;\n",
       "    }\n",
       "\n",
       "    .dataframe tbody tr th {\n",
       "        vertical-align: top;\n",
       "    }\n",
       "\n",
       "    .dataframe thead th {\n",
       "        text-align: right;\n",
       "    }\n",
       "</style>\n",
       "<table border=\"1\" class=\"dataframe\">\n",
       "  <thead>\n",
       "    <tr style=\"text-align: right;\">\n",
       "      <th></th>\n",
       "      <th>name</th>\n",
       "      <th>age</th>\n",
       "      <th>gender</th>\n",
       "      <th>race</th>\n",
       "      <th>urlDrugName</th>\n",
       "      <th>rating</th>\n",
       "      <th>effectiveness</th>\n",
       "      <th>condition</th>\n",
       "    </tr>\n",
       "  </thead>\n",
       "  <tbody>\n",
       "    <tr>\n",
       "      <th>0</th>\n",
       "      <td>0</td>\n",
       "      <td>53.0</td>\n",
       "      <td>0</td>\n",
       "      <td>0</td>\n",
       "      <td>0</td>\n",
       "      <td>4.0</td>\n",
       "      <td>0</td>\n",
       "      <td>0</td>\n",
       "    </tr>\n",
       "    <tr>\n",
       "      <th>1</th>\n",
       "      <td>1</td>\n",
       "      <td>47.0</td>\n",
       "      <td>0</td>\n",
       "      <td>1</td>\n",
       "      <td>1</td>\n",
       "      <td>1.0</td>\n",
       "      <td>0</td>\n",
       "      <td>1</td>\n",
       "    </tr>\n",
       "    <tr>\n",
       "      <th>2</th>\n",
       "      <td>2</td>\n",
       "      <td>23.0</td>\n",
       "      <td>0</td>\n",
       "      <td>2</td>\n",
       "      <td>2</td>\n",
       "      <td>10.0</td>\n",
       "      <td>0</td>\n",
       "      <td>2</td>\n",
       "    </tr>\n",
       "    <tr>\n",
       "      <th>3</th>\n",
       "      <td>3</td>\n",
       "      <td>32.0</td>\n",
       "      <td>0</td>\n",
       "      <td>1</td>\n",
       "      <td>3</td>\n",
       "      <td>3.0</td>\n",
       "      <td>1</td>\n",
       "      <td>3</td>\n",
       "    </tr>\n",
       "    <tr>\n",
       "      <th>4</th>\n",
       "      <td>4</td>\n",
       "      <td>39.0</td>\n",
       "      <td>0</td>\n",
       "      <td>2</td>\n",
       "      <td>4</td>\n",
       "      <td>2.0</td>\n",
       "      <td>1</td>\n",
       "      <td>4</td>\n",
       "    </tr>\n",
       "  </tbody>\n",
       "</table>\n",
       "</div>"
      ],
      "text/plain": [
       "   name   age  gender  race  urlDrugName  rating  effectiveness  condition\n",
       "0     0  53.0       0     0            0     4.0              0          0\n",
       "1     1  47.0       0     1            1     1.0              0          1\n",
       "2     2  23.0       0     2            2    10.0              0          2\n",
       "3     3  32.0       0     1            3     3.0              1          3\n",
       "4     4  39.0       0     2            4     2.0              1          4"
      ]
     },
     "execution_count": 32,
     "metadata": {},
     "output_type": "execute_result"
    }
   ],
   "source": [
    "cols = ['urlDrugName','effectiveness','condition','name','race', 'gender']    \n",
    "\n",
    "for x in cols:\n",
    "    data[x] = pd.factorize(data[x])[0]\n",
    "    \n",
    "target =   pd.factorize(target)[0]  \n",
    "\n",
    "data.head()"
   ]
  },
  {
   "cell_type": "markdown",
   "id": "a00c1436",
   "metadata": {},
   "source": [
    "# Scaling the data"
   ]
  },
  {
   "cell_type": "code",
   "execution_count": 33,
   "id": "6ca4b669",
   "metadata": {},
   "outputs": [],
   "source": [
    "scaler = StandardScaler()"
   ]
  },
  {
   "cell_type": "code",
   "execution_count": 34,
   "id": "10022a9f",
   "metadata": {},
   "outputs": [],
   "source": [
    "data= scaler.fit_transform(data)"
   ]
  },
  {
   "cell_type": "code",
   "execution_count": 35,
   "id": "9011d412",
   "metadata": {},
   "outputs": [
    {
     "data": {
      "text/plain": [
       "array([[-1.73020231e+00,  1.31408858e+00, -2.17960902e-01, ...,\n",
       "        -1.02357200e+00, -1.04690799e+00, -9.42183686e-01],\n",
       "       [-1.72948740e+00,  8.36087130e-01, -2.17960902e-01, ...,\n",
       "        -2.04501478e+00, -1.04690799e+00, -9.39844583e-01],\n",
       "       [-1.72877250e+00, -1.07591867e+00, -2.17960902e-01, ...,\n",
       "         1.01931357e+00, -1.04690799e+00, -9.37505479e-01],\n",
       "       ...,\n",
       "       [ 1.73566510e+00, -9.16584857e-01,  4.58797881e+00, ...,\n",
       "        -2.12921338e-03,  1.49181389e+00, -9.11775338e-01],\n",
       "       [ 1.73638001e+00, -1.15558558e+00, -2.17960902e-01, ...,\n",
       "        -2.12921338e-03, -1.04690799e+00,  1.75948112e+00],\n",
       "       [ 1.73709492e+00, -4.38583406e-01, -2.17960902e-01, ...,\n",
       "         1.01931357e+00, -1.04690799e+00, -5.88979023e-01]])"
      ]
     },
     "execution_count": 35,
     "metadata": {},
     "output_type": "execute_result"
    }
   ],
   "source": [
    "data"
   ]
  },
  {
   "cell_type": "markdown",
   "id": "60965b17",
   "metadata": {},
   "source": [
    "# Splitting the data into train"
   ]
  },
  {
   "cell_type": "code",
   "execution_count": 36,
   "id": "cb6be4fa",
   "metadata": {},
   "outputs": [],
   "source": [
    "x_train, x_test, y_train, y_test = train_test_split(data,target,test_size=0.25,random_state=0)"
   ]
  },
  {
   "cell_type": "markdown",
   "id": "f5b52dd2",
   "metadata": {},
   "source": [
    "# Using SVM"
   ]
  },
  {
   "cell_type": "code",
   "execution_count": null,
   "id": "72ec4fad",
   "metadata": {},
   "outputs": [],
   "source": [
    "svm_clf = SVC().fit(x_train , y_train)"
   ]
  },
  {
   "cell_type": "code",
   "execution_count": null,
   "id": "36fb6df4",
   "metadata": {},
   "outputs": [],
   "source": [
    "svm_pred =  svm_clf.predict(x_test)"
   ]
  },
  {
   "cell_type": "code",
   "execution_count": null,
   "id": "25d84fa1",
   "metadata": {},
   "outputs": [],
   "source": [
    "print(classification_report(y_test, svm_pred))"
   ]
  },
  {
   "cell_type": "markdown",
   "id": "008882fb",
   "metadata": {},
   "source": [
    "# Using Random Classifier\n"
   ]
  },
  {
   "cell_type": "code",
   "execution_count": null,
   "id": "9e87c9ab",
   "metadata": {},
   "outputs": [],
   "source": [
    "rf_clf = RandomForestClassifier().fit(x_train , y_train)\n",
    "rf_pred =  rf_clf.predict(x_test)\n",
    "print(classification_report(y_test, rf_pred))"
   ]
  }
 ],
 "metadata": {
  "kernelspec": {
   "display_name": "Python 3",
   "language": "python",
   "name": "python3"
  },
  "language_info": {
   "codemirror_mode": {
    "name": "ipython",
    "version": 3
   },
   "file_extension": ".py",
   "mimetype": "text/x-python",
   "name": "python",
   "nbconvert_exporter": "python",
   "pygments_lexer": "ipython3",
   "version": "3.8.8"
  }
 },
 "nbformat": 4,
 "nbformat_minor": 5
}
